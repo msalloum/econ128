{
 "cells": [
  {
   "cell_type": "markdown",
   "metadata": {},
   "source": [
    "### Exploratory Data Analysis \n",
    "\n"
   ]
  },
  {
   "cell_type": "markdown",
   "metadata": {},
   "source": [
    "The HOUSES dataset contains a collection of recent real estate listings in San Luis Obispo county and around it. The dataset is as a CSV file. The dataset contains the following fields:\n",
    "\n",
    "1. MLS: Multiple listing service number for the house (unique ID).\n",
    "2. Location: city/town where the house is located. Most locations are in San Luis Obispo county and northern Santa Barbara county (Santa Maria-Orcutt, Lompoc, Guadelupe, Los Alamos), but there some out of area locations as well.\n",
    "4. Price: the most recent listing price of the house (in dollars).\n",
    "5. Bedrooms: number of bedrooms.\n",
    "6. Bathrooms: number of bathrooms.\n",
    "7. Size: size of the house in square feet.\n",
    "8. Price/SQ.ft: price of the house per square foot.\n",
    "9. Status: type of sale. Thee types are represented in the dataset: Short Sale, Foreclosure and Regular.\n",
    "\n",
    "Lets import the required libraries that we will be using later. "
   ]
  },
  {
   "cell_type": "code",
   "execution_count": 26,
   "metadata": {},
   "outputs": [],
   "source": [
    "from numpy import * # everything \n",
    "import pandas as pd "
   ]
  },
  {
   "cell_type": "markdown",
   "metadata": {},
   "source": [
    "Let's load the dataset into a pandas dataframe and have a look at the headers."
   ]
  },
  {
   "cell_type": "code",
   "execution_count": 27,
   "metadata": {
    "scrolled": true
   },
   "outputs": [
    {
     "name": "stdout",
     "output_type": "stream",
     "text": [
      "781\n",
      "['MLS', 'Location', 'Price', 'Bedrooms', 'Bathrooms', 'Size', 'Price/SQ.Ft', 'Status']\n"
     ]
    }
   ],
   "source": [
    "df = pd.read_csv('data.csv', sep=',', error_bad_lines=False) # read fie as a dataframe\n",
    "\n",
    "print len(df)    # print number of rows\n",
    "print list(df)   # print 1st ten headers"
   ]
  },
  {
   "cell_type": "markdown",
   "metadata": {},
   "source": [
    "Lets take a look at the first 2 rows of the dataframe."
   ]
  },
  {
   "cell_type": "code",
   "execution_count": 28,
   "metadata": {},
   "outputs": [
    {
     "data": {
      "text/html": [
       "<div>\n",
       "<style scoped>\n",
       "    .dataframe tbody tr th:only-of-type {\n",
       "        vertical-align: middle;\n",
       "    }\n",
       "\n",
       "    .dataframe tbody tr th {\n",
       "        vertical-align: top;\n",
       "    }\n",
       "\n",
       "    .dataframe thead th {\n",
       "        text-align: right;\n",
       "    }\n",
       "</style>\n",
       "<table border=\"1\" class=\"dataframe\">\n",
       "  <thead>\n",
       "    <tr style=\"text-align: right;\">\n",
       "      <th></th>\n",
       "      <th>MLS</th>\n",
       "      <th>Location</th>\n",
       "      <th>Price</th>\n",
       "      <th>Bedrooms</th>\n",
       "      <th>Bathrooms</th>\n",
       "      <th>Size</th>\n",
       "      <th>Price/SQ.Ft</th>\n",
       "      <th>Status</th>\n",
       "    </tr>\n",
       "  </thead>\n",
       "  <tbody>\n",
       "    <tr>\n",
       "      <th>0</th>\n",
       "      <td>132842</td>\n",
       "      <td>Arroyo Grande</td>\n",
       "      <td>795000</td>\n",
       "      <td>3</td>\n",
       "      <td>3</td>\n",
       "      <td>2371</td>\n",
       "      <td>335.30</td>\n",
       "      <td>Short Sale</td>\n",
       "    </tr>\n",
       "    <tr>\n",
       "      <th>1</th>\n",
       "      <td>134364</td>\n",
       "      <td>Paso Robles</td>\n",
       "      <td>399000</td>\n",
       "      <td>4</td>\n",
       "      <td>3</td>\n",
       "      <td>2818</td>\n",
       "      <td>141.59</td>\n",
       "      <td>Short Sale</td>\n",
       "    </tr>\n",
       "    <tr>\n",
       "      <th>2</th>\n",
       "      <td>135141</td>\n",
       "      <td>Paso Robles</td>\n",
       "      <td>545000</td>\n",
       "      <td>4</td>\n",
       "      <td>3</td>\n",
       "      <td>3032</td>\n",
       "      <td>179.75</td>\n",
       "      <td>Short Sale</td>\n",
       "    </tr>\n",
       "    <tr>\n",
       "      <th>3</th>\n",
       "      <td>135712</td>\n",
       "      <td>Morro Bay</td>\n",
       "      <td>909000</td>\n",
       "      <td>4</td>\n",
       "      <td>4</td>\n",
       "      <td>3540</td>\n",
       "      <td>256.78</td>\n",
       "      <td>Short Sale</td>\n",
       "    </tr>\n",
       "    <tr>\n",
       "      <th>4</th>\n",
       "      <td>136282</td>\n",
       "      <td>Santa Maria-Orcutt</td>\n",
       "      <td>109900</td>\n",
       "      <td>3</td>\n",
       "      <td>1</td>\n",
       "      <td>1249</td>\n",
       "      <td>87.99</td>\n",
       "      <td>Short Sale</td>\n",
       "    </tr>\n",
       "  </tbody>\n",
       "</table>\n",
       "</div>"
      ],
      "text/plain": [
       "      MLS            Location   Price  Bedrooms  Bathrooms  Size  Price/SQ.Ft  \\\n",
       "0  132842       Arroyo Grande  795000         3          3  2371       335.30   \n",
       "1  134364         Paso Robles  399000         4          3  2818       141.59   \n",
       "2  135141         Paso Robles  545000         4          3  3032       179.75   \n",
       "3  135712           Morro Bay  909000         4          4  3540       256.78   \n",
       "4  136282  Santa Maria-Orcutt  109900         3          1  1249        87.99   \n",
       "\n",
       "       Status  \n",
       "0  Short Sale  \n",
       "1  Short Sale  \n",
       "2  Short Sale  \n",
       "3  Short Sale  \n",
       "4  Short Sale  "
      ]
     },
     "execution_count": 28,
     "metadata": {},
     "output_type": "execute_result"
    }
   ],
   "source": [
    "df.head(5)"
   ]
  },
  {
   "cell_type": "markdown",
   "metadata": {},
   "source": [
    "Next, lets look at a specific column or feature in the dataframe."
   ]
  },
  {
   "cell_type": "code",
   "execution_count": 29,
   "metadata": {},
   "outputs": [
    {
     "name": "stdout",
     "output_type": "stream",
     "text": [
      "Bedrooms: [ 3  4  2  7  1  5  0  6 10]\n",
      "Bathrooms: [ 3  4  1  2  5  7  6 11]\n"
     ]
    }
   ],
   "source": [
    "print \"Bedrooms:\", df.Bedrooms.unique()\n",
    "print \"Bathrooms:\", df.Bathrooms.unique()"
   ]
  },
  {
   "cell_type": "markdown",
   "metadata": {},
   "source": [
    "What if we want to drop a column from the dataframe?"
   ]
  },
  {
   "cell_type": "code",
   "execution_count": 30,
   "metadata": {},
   "outputs": [],
   "source": [
    "df = df.drop('Location', 1)"
   ]
  },
  {
   "cell_type": "markdown",
   "metadata": {},
   "source": [
    "Let's rename the first column.\n",
    "\n",
    "Hint: A Google search for 'python pandas dataframe rename' points you at this documentation (http://pandas-docs.github.io/pandas-docs-travis/)."
   ]
  },
  {
   "cell_type": "code",
   "execution_count": 31,
   "metadata": {},
   "outputs": [
    {
     "name": "stdout",
     "output_type": "stream",
     "text": [
      "Index([u'MLS', u'Price', u'Bedrooms', u'Bathrooms', u'Size', u'Price/SQ.Ft',\n",
      "       u'Status'],\n",
      "      dtype='object')\n"
     ]
    },
    {
     "data": {
      "text/plain": [
       "Index([u'listing id', u'Price', u'Bedrooms', u'Bathrooms', u'Size',\n",
       "       u'Price/SQ.Ft', u'Status'],\n",
       "      dtype='object')"
      ]
     },
     "execution_count": 31,
     "metadata": {},
     "output_type": "execute_result"
    }
   ],
   "source": [
    "print df.columns\n",
    "df.rename(columns={df.columns[0]:'listing id'}, inplace=True)\n",
    "df.columns"
   ]
  },
  {
   "cell_type": "markdown",
   "metadata": {},
   "source": [
    "What is the max, min, mean/avg, and standard deviation of the column 'bedroomcnt'?"
   ]
  },
  {
   "cell_type": "code",
   "execution_count": 32,
   "metadata": {
    "scrolled": true
   },
   "outputs": [
    {
     "name": "stdout",
     "output_type": "stream",
     "text": [
      "Min:  19.33\n",
      "Max:  1144.64\n",
      "Std:  115.08214597649899\n",
      "Avg:  213.13129321382843\n"
     ]
    }
   ],
   "source": [
    "print \"Min: \" , min(df['Price/SQ.Ft'])\n",
    "print \"Max: \" , max(df['Price/SQ.Ft'])\n",
    "print \"Std: \" , df['Price/SQ.Ft'].std()\n",
    "print \"Avg: \" , df['Price/SQ.Ft'].mean()\n",
    "\n"
   ]
  },
  {
   "cell_type": "markdown",
   "metadata": {},
   "source": [
    "Plot the distribution of 'yearbuild' using matplotlib"
   ]
  },
  {
   "cell_type": "code",
   "execution_count": 33,
   "metadata": {
    "scrolled": false
   },
   "outputs": [
    {
     "data": {
      "image/png": "[encoded data removed]",
      "text/plain": [
       "<matplotlib.figure.Figure at 0x7f394b519ad0>"
      ]
     },
     "metadata": {},
     "output_type": "display_data"
    }
   ],
   "source": [
    "import matplotlib.mlab as mlab\n",
    "import matplotlib.pyplot as plt\n",
    "import numpy as np\n",
    "\n",
    "# remove NAN from array\n",
    "x = df['Price/SQ.Ft'][~np.isnan(df['Price/SQ.Ft'])]\n",
    "\n",
    "# plot histogram \n",
    "n, bins, patches = plt.hist(x, 30, normed=1, facecolor='blue')\n",
    "plt.show()"
   ]
  },
  {
   "cell_type": "markdown",
   "metadata": {},
   "source": [
    "One of the best ways to inspect data is visualize it. One way to do this is by using a scatter plot. A scatter plot of the data puts one feature along the x-axis and another along the y-axis, and draws a dot for each data point. \n",
    "\n",
    "Since its difficult to visualize more than 2 or 3 features, one possibility is to use a pair plot that looks at all possible pairs of features. The pair plot shows the interaction of each pair of features inorder to visualize any correlation between features. "
   ]
  },
  {
   "cell_type": "code",
   "execution_count": 34,
   "metadata": {
    "scrolled": true
   },
   "outputs": [
    {
     "name": "stdout",
     "output_type": "stream",
     "text": [
      "(781, 7)\n"
     ]
    },
    {
     "name": "stderr",
     "output_type": "stream",
     "text": [
      "/usr/local/lib/python2.7/dist-packages/ipykernel_launcher.py:9: FutureWarning: pandas.scatter_matrix is deprecated. Use pandas.plotting.scatter_matrix instead\n",
      "  if __name__ == '__main__':\n"
     ]
    },
    {
     "data": {
      "image/png": "[encoded data removed]",
      "text/plain": [
       "<matplotlib.figure.Figure at 0x7f394be0d110>"
      ]
     },
     "metadata": {},
     "output_type": "display_data"
    }
   ],
   "source": [
    "# import the scatter_matrix functionality\n",
    "import random as rand\n",
    "from pandas.tools.plotting import scatter_matrix\n",
    "import matplotlib.pyplot as plt\n",
    "\n",
    "print df.shape\n",
    "x = df.iloc[:,[1,2,3,4,5]] # extract only 5 columns from dataframe (using index)\n",
    "y = x.dropna(thresh=2) # drop any rows that have 2 or more fields as NAN  \n",
    "a = pd.scatter_matrix(x, alpha=0.05, figsize=(5,5), diagonal='hist')\n",
    "plt.show()"
   ]
  },
  {
   "cell_type": "markdown",
   "metadata": {},
   "source": [
    "Let's create a crosstabulation or contingency table of the factors.\n",
    "\n",
    "Hint: A Google search for 'python pandas cross tabulation' points you at this documentation (http://pandas.pydata.org/pandas-docs/stable/reshaping.html#cross-tabulations)."
   ]
  },
  {
   "cell_type": "code",
   "execution_count": 35,
   "metadata": {},
   "outputs": [
    {
     "data": {
      "text/html": [
       "<div>\n",
       "<style scoped>\n",
       "    .dataframe tbody tr th:only-of-type {\n",
       "        vertical-align: middle;\n",
       "    }\n",
       "\n",
       "    .dataframe tbody tr th {\n",
       "        vertical-align: top;\n",
       "    }\n",
       "\n",
       "    .dataframe thead th {\n",
       "        text-align: right;\n",
       "    }\n",
       "</style>\n",
       "<table border=\"1\" class=\"dataframe\">\n",
       "  <thead>\n",
       "    <tr style=\"text-align: right;\">\n",
       "      <th>Bathrooms</th>\n",
       "      <th>1</th>\n",
       "      <th>2</th>\n",
       "      <th>3</th>\n",
       "      <th>4</th>\n",
       "      <th>5</th>\n",
       "      <th>6</th>\n",
       "      <th>7</th>\n",
       "      <th>11</th>\n",
       "    </tr>\n",
       "    <tr>\n",
       "      <th>Bedrooms</th>\n",
       "      <th></th>\n",
       "      <th></th>\n",
       "      <th></th>\n",
       "      <th></th>\n",
       "      <th></th>\n",
       "      <th></th>\n",
       "      <th></th>\n",
       "      <th></th>\n",
       "    </tr>\n",
       "  </thead>\n",
       "  <tbody>\n",
       "    <tr>\n",
       "      <th>0</th>\n",
       "      <td>2</td>\n",
       "      <td>0</td>\n",
       "      <td>0</td>\n",
       "      <td>0</td>\n",
       "      <td>0</td>\n",
       "      <td>0</td>\n",
       "      <td>0</td>\n",
       "      <td>0</td>\n",
       "    </tr>\n",
       "    <tr>\n",
       "      <th>1</th>\n",
       "      <td>10</td>\n",
       "      <td>1</td>\n",
       "      <td>0</td>\n",
       "      <td>0</td>\n",
       "      <td>0</td>\n",
       "      <td>0</td>\n",
       "      <td>0</td>\n",
       "      <td>0</td>\n",
       "    </tr>\n",
       "    <tr>\n",
       "      <th>2</th>\n",
       "      <td>33</td>\n",
       "      <td>78</td>\n",
       "      <td>12</td>\n",
       "      <td>0</td>\n",
       "      <td>0</td>\n",
       "      <td>0</td>\n",
       "      <td>0</td>\n",
       "      <td>0</td>\n",
       "    </tr>\n",
       "    <tr>\n",
       "      <th>3</th>\n",
       "      <td>20</td>\n",
       "      <td>286</td>\n",
       "      <td>119</td>\n",
       "      <td>5</td>\n",
       "      <td>1</td>\n",
       "      <td>0</td>\n",
       "      <td>0</td>\n",
       "      <td>0</td>\n",
       "    </tr>\n",
       "    <tr>\n",
       "      <th>4</th>\n",
       "      <td>0</td>\n",
       "      <td>76</td>\n",
       "      <td>76</td>\n",
       "      <td>19</td>\n",
       "      <td>6</td>\n",
       "      <td>0</td>\n",
       "      <td>0</td>\n",
       "      <td>0</td>\n",
       "    </tr>\n",
       "    <tr>\n",
       "      <th>5</th>\n",
       "      <td>0</td>\n",
       "      <td>3</td>\n",
       "      <td>16</td>\n",
       "      <td>9</td>\n",
       "      <td>0</td>\n",
       "      <td>2</td>\n",
       "      <td>1</td>\n",
       "      <td>0</td>\n",
       "    </tr>\n",
       "    <tr>\n",
       "      <th>6</th>\n",
       "      <td>0</td>\n",
       "      <td>0</td>\n",
       "      <td>3</td>\n",
       "      <td>0</td>\n",
       "      <td>0</td>\n",
       "      <td>0</td>\n",
       "      <td>1</td>\n",
       "      <td>0</td>\n",
       "    </tr>\n",
       "    <tr>\n",
       "      <th>7</th>\n",
       "      <td>0</td>\n",
       "      <td>0</td>\n",
       "      <td>0</td>\n",
       "      <td>0</td>\n",
       "      <td>1</td>\n",
       "      <td>0</td>\n",
       "      <td>0</td>\n",
       "      <td>0</td>\n",
       "    </tr>\n",
       "    <tr>\n",
       "      <th>10</th>\n",
       "      <td>0</td>\n",
       "      <td>0</td>\n",
       "      <td>0</td>\n",
       "      <td>0</td>\n",
       "      <td>0</td>\n",
       "      <td>0</td>\n",
       "      <td>0</td>\n",
       "      <td>1</td>\n",
       "    </tr>\n",
       "  </tbody>\n",
       "</table>\n",
       "</div>"
      ],
      "text/plain": [
       "Bathrooms  1    2    3   4   5   6   7   11\n",
       "Bedrooms                                   \n",
       "0           2    0    0   0   0   0   0   0\n",
       "1          10    1    0   0   0   0   0   0\n",
       "2          33   78   12   0   0   0   0   0\n",
       "3          20  286  119   5   1   0   0   0\n",
       "4           0   76   76  19   6   0   0   0\n",
       "5           0    3   16   9   0   2   1   0\n",
       "6           0    0    3   0   0   0   1   0\n",
       "7           0    0    0   0   1   0   0   0\n",
       "10          0    0    0   0   0   0   0   1"
      ]
     },
     "execution_count": 35,
     "metadata": {},
     "output_type": "execute_result"
    }
   ],
   "source": [
    "pd.crosstab(df.Bedrooms, df.Bathrooms)"
   ]
  },
  {
   "cell_type": "code",
   "execution_count": 36,
   "metadata": {},
   "outputs": [
    {
     "data": {
      "image/png": "[encoded data removed]",
      "text/plain": [
       "<matplotlib.figure.Figure at 0x7f394fc7c890>"
      ]
     },
     "metadata": {},
     "output_type": "display_data"
    }
   ],
   "source": [
    "fig=plt.figure()\n",
    "plt.scatter(df.Price, df.Size)\n",
    "axis = fig.gca() #get current axis\n",
    "axis.set_title('Price vs Size')\n",
    "axis.set_xlabel('Price')\n",
    "axis.set_ylabel('Size')\n",
    "fig.canvas.draw()"
   ]
  },
  {
   "cell_type": "markdown",
   "metadata": {},
   "source": [
    "## Categorical Encoding\n",
    "If we have categorical or continuous variables and we would like to encode them into discrete integer files (like 0, 1, 2, ...) we can use several tricks in pandas to do this."
   ]
  },
  {
   "cell_type": "code",
   "execution_count": 22,
   "metadata": {},
   "outputs": [
    {
     "data": {
      "text/html": [
       "<div>\n",
       "<style scoped>\n",
       "    .dataframe tbody tr th:only-of-type {\n",
       "        vertical-align: middle;\n",
       "    }\n",
       "\n",
       "    .dataframe tbody tr th {\n",
       "        vertical-align: top;\n",
       "    }\n",
       "\n",
       "    .dataframe thead th {\n",
       "        text-align: right;\n",
       "    }\n",
       "</style>\n",
       "<table border=\"1\" class=\"dataframe\">\n",
       "  <thead>\n",
       "    <tr style=\"text-align: right;\">\n",
       "      <th></th>\n",
       "      <th>listing id</th>\n",
       "      <th>Price</th>\n",
       "      <th>Bedrooms</th>\n",
       "      <th>Bathrooms</th>\n",
       "      <th>Size</th>\n",
       "      <th>Price/SQ.Ft</th>\n",
       "      <th>Status</th>\n",
       "    </tr>\n",
       "  </thead>\n",
       "  <tbody>\n",
       "    <tr>\n",
       "      <th>0</th>\n",
       "      <td>132842</td>\n",
       "      <td>795000</td>\n",
       "      <td>3</td>\n",
       "      <td>3</td>\n",
       "      <td>2371</td>\n",
       "      <td>335.30</td>\n",
       "      <td>2</td>\n",
       "    </tr>\n",
       "    <tr>\n",
       "      <th>1</th>\n",
       "      <td>134364</td>\n",
       "      <td>399000</td>\n",
       "      <td>4</td>\n",
       "      <td>3</td>\n",
       "      <td>2818</td>\n",
       "      <td>141.59</td>\n",
       "      <td>2</td>\n",
       "    </tr>\n",
       "    <tr>\n",
       "      <th>2</th>\n",
       "      <td>135141</td>\n",
       "      <td>545000</td>\n",
       "      <td>4</td>\n",
       "      <td>3</td>\n",
       "      <td>3032</td>\n",
       "      <td>179.75</td>\n",
       "      <td>2</td>\n",
       "    </tr>\n",
       "    <tr>\n",
       "      <th>3</th>\n",
       "      <td>135712</td>\n",
       "      <td>909000</td>\n",
       "      <td>4</td>\n",
       "      <td>4</td>\n",
       "      <td>3540</td>\n",
       "      <td>256.78</td>\n",
       "      <td>2</td>\n",
       "    </tr>\n",
       "    <tr>\n",
       "      <th>4</th>\n",
       "      <td>136282</td>\n",
       "      <td>109900</td>\n",
       "      <td>3</td>\n",
       "      <td>1</td>\n",
       "      <td>1249</td>\n",
       "      <td>87.99</td>\n",
       "      <td>2</td>\n",
       "    </tr>\n",
       "  </tbody>\n",
       "</table>\n",
       "</div>"
      ],
      "text/plain": [
       "   listing id   Price  Bedrooms  Bathrooms  Size  Price/SQ.Ft  Status\n",
       "0      132842  795000         3          3  2371       335.30       2\n",
       "1      134364  399000         4          3  2818       141.59       2\n",
       "2      135141  545000         4          3  3032       179.75       2\n",
       "3      135712  909000         4          4  3540       256.78       2\n",
       "4      136282  109900         3          1  1249        87.99       2"
      ]
     },
     "execution_count": 22,
     "metadata": {},
     "output_type": "execute_result"
    }
   ],
   "source": [
    "# Approach 1 - Pandas makes it easy for us to directly replace the text values with their numeric equivalent by using replace .\n",
    "\n",
    "newValues = {\"Status\": {\"Foreclosure\": 1, \"Short Sale\": 2, \"Regular\" : 3}}\n",
    "df2 = df.replace(newValues, inplace=False )\n",
    "df2.head()"
   ]
  },
  {
   "cell_type": "code",
   "execution_count": 39,
   "metadata": {},
   "outputs": [
    {
     "data": {
      "text/html": [
       "<div>\n",
       "<style scoped>\n",
       "    .dataframe tbody tr th:only-of-type {\n",
       "        vertical-align: middle;\n",
       "    }\n",
       "\n",
       "    .dataframe tbody tr th {\n",
       "        vertical-align: top;\n",
       "    }\n",
       "\n",
       "    .dataframe thead th {\n",
       "        text-align: right;\n",
       "    }\n",
       "</style>\n",
       "<table border=\"1\" class=\"dataframe\">\n",
       "  <thead>\n",
       "    <tr style=\"text-align: right;\">\n",
       "      <th></th>\n",
       "      <th>listing id</th>\n",
       "      <th>Price</th>\n",
       "      <th>Bedrooms</th>\n",
       "      <th>Bathrooms</th>\n",
       "      <th>Size</th>\n",
       "      <th>Price/SQ.Ft</th>\n",
       "      <th>Status</th>\n",
       "      <th>Status_cat</th>\n",
       "    </tr>\n",
       "  </thead>\n",
       "  <tbody>\n",
       "    <tr>\n",
       "      <th>0</th>\n",
       "      <td>132842</td>\n",
       "      <td>795000</td>\n",
       "      <td>3</td>\n",
       "      <td>3</td>\n",
       "      <td>2371</td>\n",
       "      <td>335.30</td>\n",
       "      <td>Short Sale</td>\n",
       "      <td>2</td>\n",
       "    </tr>\n",
       "    <tr>\n",
       "      <th>1</th>\n",
       "      <td>134364</td>\n",
       "      <td>399000</td>\n",
       "      <td>4</td>\n",
       "      <td>3</td>\n",
       "      <td>2818</td>\n",
       "      <td>141.59</td>\n",
       "      <td>Short Sale</td>\n",
       "      <td>2</td>\n",
       "    </tr>\n",
       "    <tr>\n",
       "      <th>2</th>\n",
       "      <td>135141</td>\n",
       "      <td>545000</td>\n",
       "      <td>4</td>\n",
       "      <td>3</td>\n",
       "      <td>3032</td>\n",
       "      <td>179.75</td>\n",
       "      <td>Short Sale</td>\n",
       "      <td>2</td>\n",
       "    </tr>\n",
       "    <tr>\n",
       "      <th>3</th>\n",
       "      <td>135712</td>\n",
       "      <td>909000</td>\n",
       "      <td>4</td>\n",
       "      <td>4</td>\n",
       "      <td>3540</td>\n",
       "      <td>256.78</td>\n",
       "      <td>Short Sale</td>\n",
       "      <td>2</td>\n",
       "    </tr>\n",
       "    <tr>\n",
       "      <th>4</th>\n",
       "      <td>136282</td>\n",
       "      <td>109900</td>\n",
       "      <td>3</td>\n",
       "      <td>1</td>\n",
       "      <td>1249</td>\n",
       "      <td>87.99</td>\n",
       "      <td>Short Sale</td>\n",
       "      <td>2</td>\n",
       "    </tr>\n",
       "  </tbody>\n",
       "</table>\n",
       "</div>"
      ],
      "text/plain": [
       "   listing id   Price  Bedrooms  Bathrooms  Size  Price/SQ.Ft      Status  \\\n",
       "0      132842  795000         3          3  2371       335.30  Short Sale   \n",
       "1      134364  399000         4          3  2818       141.59  Short Sale   \n",
       "2      135141  545000         4          3  3032       179.75  Short Sale   \n",
       "3      135712  909000         4          4  3540       256.78  Short Sale   \n",
       "4      136282  109900         3          1  1249        87.99  Short Sale   \n",
       "\n",
       "   Status_cat  \n",
       "0           2  \n",
       "1           2  \n",
       "2           2  \n",
       "3           2  \n",
       "4           2  "
      ]
     },
     "execution_count": 39,
     "metadata": {},
     "output_type": "execute_result"
    }
   ],
   "source": [
    "# Approach 2 - Another approach to encoding categorical values is to use a technique called label encoding.\n",
    "# Label encoding is simply converting each value in a column to a number.\n",
    "\n",
    "# One trick you can use in pandas is to convert a column to a category, then use those category \n",
    "# values for your label encoding. \n",
    "\n",
    "df[\"Status\"] = df[\"Status\"].astype('category')\n",
    "df.dtypes\n",
    "\n",
    "# Then you can assign the encoded variable to a new column using the cat.codes accessor.\n",
    "df[\"Status_cat\"] = df[\"Status\"].cat.codes\n",
    "df.head()"
   ]
  },
  {
   "cell_type": "code",
   "execution_count": 40,
   "metadata": {},
   "outputs": [
    {
     "data": {
      "text/html": [
       "<div>\n",
       "<style scoped>\n",
       "    .dataframe tbody tr th:only-of-type {\n",
       "        vertical-align: middle;\n",
       "    }\n",
       "\n",
       "    .dataframe tbody tr th {\n",
       "        vertical-align: top;\n",
       "    }\n",
       "\n",
       "    .dataframe thead th {\n",
       "        text-align: right;\n",
       "    }\n",
       "</style>\n",
       "<table border=\"1\" class=\"dataframe\">\n",
       "  <thead>\n",
       "    <tr style=\"text-align: right;\">\n",
       "      <th></th>\n",
       "      <th>listing id</th>\n",
       "      <th>Price</th>\n",
       "      <th>Bedrooms</th>\n",
       "      <th>Bathrooms</th>\n",
       "      <th>Size</th>\n",
       "      <th>Price/SQ.Ft</th>\n",
       "      <th>Status_cat</th>\n",
       "      <th>new_Foreclosure</th>\n",
       "      <th>new_Regular</th>\n",
       "      <th>new_Short Sale</th>\n",
       "    </tr>\n",
       "  </thead>\n",
       "  <tbody>\n",
       "    <tr>\n",
       "      <th>0</th>\n",
       "      <td>132842</td>\n",
       "      <td>795000</td>\n",
       "      <td>3</td>\n",
       "      <td>3</td>\n",
       "      <td>2371</td>\n",
       "      <td>335.30</td>\n",
       "      <td>2</td>\n",
       "      <td>0</td>\n",
       "      <td>0</td>\n",
       "      <td>1</td>\n",
       "    </tr>\n",
       "    <tr>\n",
       "      <th>1</th>\n",
       "      <td>134364</td>\n",
       "      <td>399000</td>\n",
       "      <td>4</td>\n",
       "      <td>3</td>\n",
       "      <td>2818</td>\n",
       "      <td>141.59</td>\n",
       "      <td>2</td>\n",
       "      <td>0</td>\n",
       "      <td>0</td>\n",
       "      <td>1</td>\n",
       "    </tr>\n",
       "    <tr>\n",
       "      <th>2</th>\n",
       "      <td>135141</td>\n",
       "      <td>545000</td>\n",
       "      <td>4</td>\n",
       "      <td>3</td>\n",
       "      <td>3032</td>\n",
       "      <td>179.75</td>\n",
       "      <td>2</td>\n",
       "      <td>0</td>\n",
       "      <td>0</td>\n",
       "      <td>1</td>\n",
       "    </tr>\n",
       "    <tr>\n",
       "      <th>3</th>\n",
       "      <td>135712</td>\n",
       "      <td>909000</td>\n",
       "      <td>4</td>\n",
       "      <td>4</td>\n",
       "      <td>3540</td>\n",
       "      <td>256.78</td>\n",
       "      <td>2</td>\n",
       "      <td>0</td>\n",
       "      <td>0</td>\n",
       "      <td>1</td>\n",
       "    </tr>\n",
       "    <tr>\n",
       "      <th>4</th>\n",
       "      <td>136282</td>\n",
       "      <td>109900</td>\n",
       "      <td>3</td>\n",
       "      <td>1</td>\n",
       "      <td>1249</td>\n",
       "      <td>87.99</td>\n",
       "      <td>2</td>\n",
       "      <td>0</td>\n",
       "      <td>0</td>\n",
       "      <td>1</td>\n",
       "    </tr>\n",
       "  </tbody>\n",
       "</table>\n",
       "</div>"
      ],
      "text/plain": [
       "   listing id   Price  Bedrooms  Bathrooms  Size  Price/SQ.Ft  Status_cat  \\\n",
       "0      132842  795000         3          3  2371       335.30           2   \n",
       "1      134364  399000         4          3  2818       141.59           2   \n",
       "2      135141  545000         4          3  3032       179.75           2   \n",
       "3      135712  909000         4          4  3540       256.78           2   \n",
       "4      136282  109900         3          1  1249        87.99           2   \n",
       "\n",
       "   new_Foreclosure  new_Regular  new_Short Sale  \n",
       "0                0            0               1  \n",
       "1                0            0               1  \n",
       "2                0            0               1  \n",
       "3                0            0               1  \n",
       "4                0            0               1  "
      ]
     },
     "execution_count": 40,
     "metadata": {},
     "output_type": "execute_result"
    }
   ],
   "source": [
    "\"\"\"Approach 3 - Label encoding has the advantage that it is straightforward but it has the \n",
    "   disadvantage that the numeric values can be “misinterpreted” by the algorithms. For example, \n",
    "   the value of 1 is obviously less than the value of 3 but does that really correspond to the data set in real life?\n",
    "   For example, is \"Foreclosure\" =1 closer to \"Short Sale\" =2 compared to \"Regular\" =3?\n",
    "\n",
    "   A common alternative approach is called one hot encoding. The basic strategy is to convert each category value \n",
    "   into a new column and assigns a 1 or 0 (True/False) value to the column. This has the benefit of not weighting \n",
    "   a value improperly but does have the downside of adding more columns to the data set.\n",
    "\n",
    "   Pandas supports this feature using get_dummies. This function is named this way because it creates \n",
    "   dummy/indicator variables (aka 1 or 0).\"\"\"\n",
    "\n",
    "pd.get_dummies(df, columns=[\"Status\"], prefix=[\"new\"]).head()\n",
    "\n",
    "# basically, it creates a 3 new columns (one for each unique value in the column.) with the prefix \"new_\""
   ]
  },
  {
   "cell_type": "markdown",
   "metadata": {},
   "source": [
    "## Pandas Data Munging"
   ]
  },
  {
   "cell_type": "markdown",
   "metadata": {},
   "source": [
    "The first concept we deal with here is pandas groupby. The idea is to group a dataframe by the values of a particular factor variable. The documentation can be found here (http://pandas-docs.github.io/pandas-docs-travis/)."
   ]
  },
  {
   "cell_type": "code",
   "execution_count": 12,
   "metadata": {},
   "outputs": [
    {
     "data": {
      "text/html": [
       "<div>\n",
       "<style scoped>\n",
       "    .dataframe tbody tr th:only-of-type {\n",
       "        vertical-align: middle;\n",
       "    }\n",
       "\n",
       "    .dataframe tbody tr th {\n",
       "        vertical-align: top;\n",
       "    }\n",
       "\n",
       "    .dataframe thead th {\n",
       "        text-align: right;\n",
       "    }\n",
       "</style>\n",
       "<table border=\"1\" class=\"dataframe\">\n",
       "  <thead>\n",
       "    <tr style=\"text-align: right;\">\n",
       "      <th></th>\n",
       "      <th>listing id</th>\n",
       "      <th>Price</th>\n",
       "      <th>Bedrooms</th>\n",
       "      <th>Bathrooms</th>\n",
       "      <th>Size</th>\n",
       "      <th>Price/SQ.Ft</th>\n",
       "      <th>Status</th>\n",
       "    </tr>\n",
       "  </thead>\n",
       "  <tbody>\n",
       "    <tr>\n",
       "      <th>0</th>\n",
       "      <td>132842</td>\n",
       "      <td>795000</td>\n",
       "      <td>3</td>\n",
       "      <td>3</td>\n",
       "      <td>2371</td>\n",
       "      <td>335.30</td>\n",
       "      <td>Short Sale</td>\n",
       "    </tr>\n",
       "    <tr>\n",
       "      <th>1</th>\n",
       "      <td>134364</td>\n",
       "      <td>399000</td>\n",
       "      <td>4</td>\n",
       "      <td>3</td>\n",
       "      <td>2818</td>\n",
       "      <td>141.59</td>\n",
       "      <td>Short Sale</td>\n",
       "    </tr>\n",
       "    <tr>\n",
       "      <th>2</th>\n",
       "      <td>135141</td>\n",
       "      <td>545000</td>\n",
       "      <td>4</td>\n",
       "      <td>3</td>\n",
       "      <td>3032</td>\n",
       "      <td>179.75</td>\n",
       "      <td>Short Sale</td>\n",
       "    </tr>\n",
       "    <tr>\n",
       "      <th>3</th>\n",
       "      <td>135712</td>\n",
       "      <td>909000</td>\n",
       "      <td>4</td>\n",
       "      <td>4</td>\n",
       "      <td>3540</td>\n",
       "      <td>256.78</td>\n",
       "      <td>Short Sale</td>\n",
       "    </tr>\n",
       "    <tr>\n",
       "      <th>4</th>\n",
       "      <td>136282</td>\n",
       "      <td>109900</td>\n",
       "      <td>3</td>\n",
       "      <td>1</td>\n",
       "      <td>1249</td>\n",
       "      <td>87.99</td>\n",
       "      <td>Short Sale</td>\n",
       "    </tr>\n",
       "    <tr>\n",
       "      <th>53</th>\n",
       "      <td>143436</td>\n",
       "      <td>1399000</td>\n",
       "      <td>4</td>\n",
       "      <td>3</td>\n",
       "      <td>6500</td>\n",
       "      <td>215.23</td>\n",
       "      <td>Foreclosure</td>\n",
       "    </tr>\n",
       "    <tr>\n",
       "      <th>56</th>\n",
       "      <td>143534</td>\n",
       "      <td>789000</td>\n",
       "      <td>3</td>\n",
       "      <td>3</td>\n",
       "      <td>2100</td>\n",
       "      <td>375.71</td>\n",
       "      <td>Foreclosure</td>\n",
       "    </tr>\n",
       "    <tr>\n",
       "      <th>63</th>\n",
       "      <td>144314</td>\n",
       "      <td>899000</td>\n",
       "      <td>3</td>\n",
       "      <td>3</td>\n",
       "      <td>2430</td>\n",
       "      <td>369.96</td>\n",
       "      <td>Foreclosure</td>\n",
       "    </tr>\n",
       "    <tr>\n",
       "      <th>64</th>\n",
       "      <td>144316</td>\n",
       "      <td>1045000</td>\n",
       "      <td>3</td>\n",
       "      <td>3</td>\n",
       "      <td>2100</td>\n",
       "      <td>497.62</td>\n",
       "      <td>Foreclosure</td>\n",
       "    </tr>\n",
       "    <tr>\n",
       "      <th>65</th>\n",
       "      <td>144318</td>\n",
       "      <td>774000</td>\n",
       "      <td>2</td>\n",
       "      <td>2</td>\n",
       "      <td>1550</td>\n",
       "      <td>499.35</td>\n",
       "      <td>Foreclosure</td>\n",
       "    </tr>\n",
       "    <tr>\n",
       "      <th>617</th>\n",
       "      <td>154325</td>\n",
       "      <td>149900</td>\n",
       "      <td>3</td>\n",
       "      <td>1</td>\n",
       "      <td>1000</td>\n",
       "      <td>149.90</td>\n",
       "      <td>Regular</td>\n",
       "    </tr>\n",
       "    <tr>\n",
       "      <th>621</th>\n",
       "      <td>154329</td>\n",
       "      <td>177000</td>\n",
       "      <td>3</td>\n",
       "      <td>2</td>\n",
       "      <td>1500</td>\n",
       "      <td>118.00</td>\n",
       "      <td>Regular</td>\n",
       "    </tr>\n",
       "    <tr>\n",
       "      <th>622</th>\n",
       "      <td>154330</td>\n",
       "      <td>122500</td>\n",
       "      <td>4</td>\n",
       "      <td>2</td>\n",
       "      <td>1248</td>\n",
       "      <td>98.16</td>\n",
       "      <td>Regular</td>\n",
       "    </tr>\n",
       "    <tr>\n",
       "      <th>626</th>\n",
       "      <td>154343</td>\n",
       "      <td>425000</td>\n",
       "      <td>3</td>\n",
       "      <td>2</td>\n",
       "      <td>1437</td>\n",
       "      <td>295.76</td>\n",
       "      <td>Regular</td>\n",
       "    </tr>\n",
       "    <tr>\n",
       "      <th>628</th>\n",
       "      <td>154345</td>\n",
       "      <td>175000</td>\n",
       "      <td>2</td>\n",
       "      <td>2</td>\n",
       "      <td>1152</td>\n",
       "      <td>151.91</td>\n",
       "      <td>Regular</td>\n",
       "    </tr>\n",
       "  </tbody>\n",
       "</table>\n",
       "</div>"
      ],
      "text/plain": [
       "     listing id    Price  Bedrooms  Bathrooms  Size  Price/SQ.Ft       Status\n",
       "0        132842   795000         3          3  2371       335.30   Short Sale\n",
       "1        134364   399000         4          3  2818       141.59   Short Sale\n",
       "2        135141   545000         4          3  3032       179.75   Short Sale\n",
       "3        135712   909000         4          4  3540       256.78   Short Sale\n",
       "4        136282   109900         3          1  1249        87.99   Short Sale\n",
       "53       143436  1399000         4          3  6500       215.23  Foreclosure\n",
       "56       143534   789000         3          3  2100       375.71  Foreclosure\n",
       "63       144314   899000         3          3  2430       369.96  Foreclosure\n",
       "64       144316  1045000         3          3  2100       497.62  Foreclosure\n",
       "65       144318   774000         2          2  1550       499.35  Foreclosure\n",
       "617      154325   149900         3          1  1000       149.90      Regular\n",
       "621      154329   177000         3          2  1500       118.00      Regular\n",
       "622      154330   122500         4          2  1248        98.16      Regular\n",
       "626      154343   425000         3          2  1437       295.76      Regular\n",
       "628      154345   175000         2          2  1152       151.91      Regular"
      ]
     },
     "execution_count": 12,
     "metadata": {},
     "output_type": "execute_result"
    }
   ],
   "source": [
    "status_groupby = df.groupby('Status')\n",
    "status_groupby.head()"
   ]
  },
  {
   "cell_type": "markdown",
   "metadata": {},
   "source": [
    "The function groupby gives you a dictionary-like object, with the keys being the values of the factor, and the values being the corresponding subsets of the dataframe."
   ]
  },
  {
   "cell_type": "code",
   "execution_count": 13,
   "metadata": {},
   "outputs": [
    {
     "name": "stdout",
     "output_type": "stream",
     "text": [
      "( key, len(value) ) = ( Foreclosure , 162 )\n",
      "( key, len(value) ) = ( Regular , 103 )\n",
      "( key, len(value) ) = ( Short Sale , 516 )\n"
     ]
    }
   ],
   "source": [
    "# lets print the number of rows per each type of status \n",
    "for key, value in status_groupby:\n",
    "    print \"( key, len(value) ) = (\", key, \",\", len(value), \")\"\n",
    "    v=value"
   ]
  },
  {
   "cell_type": "markdown",
   "metadata": {},
   "source": [
    "The groupby function also acts like an object that can be mapped. After the mapping is complete, the rows are put together (reduced) into a larger dataframe. For example, using the describe function. The documentation of the describe function can be found here (http://pandas-docs.github.io/pandas-docs-travis/)."
   ]
  },
  {
   "cell_type": "code",
   "execution_count": 14,
   "metadata": {},
   "outputs": [
    {
     "name": "stdout",
     "output_type": "stream",
     "text": [
      "<class 'pandas.core.frame.DataFrame'>\n"
     ]
    },
    {
     "data": {
      "text/html": [
       "<div>\n",
       "<style scoped>\n",
       "    .dataframe tbody tr th:only-of-type {\n",
       "        vertical-align: middle;\n",
       "    }\n",
       "\n",
       "    .dataframe tbody tr th {\n",
       "        vertical-align: top;\n",
       "    }\n",
       "\n",
       "    .dataframe thead tr th {\n",
       "        text-align: left;\n",
       "    }\n",
       "\n",
       "    .dataframe thead tr:last-of-type th {\n",
       "        text-align: right;\n",
       "    }\n",
       "</style>\n",
       "<table border=\"1\" class=\"dataframe\">\n",
       "  <thead>\n",
       "    <tr>\n",
       "      <th></th>\n",
       "      <th colspan=\"8\" halign=\"left\">Bathrooms</th>\n",
       "      <th colspan=\"2\" halign=\"left\">Bedrooms</th>\n",
       "      <th>...</th>\n",
       "      <th colspan=\"2\" halign=\"left\">Size</th>\n",
       "      <th colspan=\"8\" halign=\"left\">Price/SQ.Ft</th>\n",
       "    </tr>\n",
       "    <tr>\n",
       "      <th></th>\n",
       "      <th>count</th>\n",
       "      <th>mean</th>\n",
       "      <th>std</th>\n",
       "      <th>min</th>\n",
       "      <th>25%</th>\n",
       "      <th>50%</th>\n",
       "      <th>75%</th>\n",
       "      <th>max</th>\n",
       "      <th>count</th>\n",
       "      <th>mean</th>\n",
       "      <th>...</th>\n",
       "      <th>75%</th>\n",
       "      <th>max</th>\n",
       "      <th>count</th>\n",
       "      <th>mean</th>\n",
       "      <th>std</th>\n",
       "      <th>min</th>\n",
       "      <th>25%</th>\n",
       "      <th>50%</th>\n",
       "      <th>75%</th>\n",
       "      <th>max</th>\n",
       "    </tr>\n",
       "    <tr>\n",
       "      <th>Status</th>\n",
       "      <th></th>\n",
       "      <th></th>\n",
       "      <th></th>\n",
       "      <th></th>\n",
       "      <th></th>\n",
       "      <th></th>\n",
       "      <th></th>\n",
       "      <th></th>\n",
       "      <th></th>\n",
       "      <th></th>\n",
       "      <th></th>\n",
       "      <th></th>\n",
       "      <th></th>\n",
       "      <th></th>\n",
       "      <th></th>\n",
       "      <th></th>\n",
       "      <th></th>\n",
       "      <th></th>\n",
       "      <th></th>\n",
       "      <th></th>\n",
       "      <th></th>\n",
       "    </tr>\n",
       "  </thead>\n",
       "  <tbody>\n",
       "    <tr>\n",
       "      <th>Foreclosure</th>\n",
       "      <td>162.0</td>\n",
       "      <td>2.314815</td>\n",
       "      <td>0.807359</td>\n",
       "      <td>1.0</td>\n",
       "      <td>2.0</td>\n",
       "      <td>2.0</td>\n",
       "      <td>3.0</td>\n",
       "      <td>7.0</td>\n",
       "      <td>162.0</td>\n",
       "      <td>3.216049</td>\n",
       "      <td>...</td>\n",
       "      <td>2064.00</td>\n",
       "      <td>6500.0</td>\n",
       "      <td>162.0</td>\n",
       "      <td>200.221605</td>\n",
       "      <td>97.433947</td>\n",
       "      <td>19.33</td>\n",
       "      <td>140.0500</td>\n",
       "      <td>186.780</td>\n",
       "      <td>225.525</td>\n",
       "      <td>686.02</td>\n",
       "    </tr>\n",
       "    <tr>\n",
       "      <th>Regular</th>\n",
       "      <td>103.0</td>\n",
       "      <td>2.446602</td>\n",
       "      <td>0.801080</td>\n",
       "      <td>1.0</td>\n",
       "      <td>2.0</td>\n",
       "      <td>2.0</td>\n",
       "      <td>3.0</td>\n",
       "      <td>6.0</td>\n",
       "      <td>103.0</td>\n",
       "      <td>3.048544</td>\n",
       "      <td>...</td>\n",
       "      <td>2237.50</td>\n",
       "      <td>5060.0</td>\n",
       "      <td>103.0</td>\n",
       "      <td>311.406796</td>\n",
       "      <td>189.019573</td>\n",
       "      <td>19.72</td>\n",
       "      <td>200.1000</td>\n",
       "      <td>282.690</td>\n",
       "      <td>369.740</td>\n",
       "      <td>1144.64</td>\n",
       "    </tr>\n",
       "    <tr>\n",
       "      <th>Short Sale</th>\n",
       "      <td>516.0</td>\n",
       "      <td>2.350775</td>\n",
       "      <td>0.867436</td>\n",
       "      <td>1.0</td>\n",
       "      <td>2.0</td>\n",
       "      <td>2.0</td>\n",
       "      <td>3.0</td>\n",
       "      <td>11.0</td>\n",
       "      <td>516.0</td>\n",
       "      <td>3.137597</td>\n",
       "      <td>...</td>\n",
       "      <td>1978.75</td>\n",
       "      <td>6800.0</td>\n",
       "      <td>516.0</td>\n",
       "      <td>197.567326</td>\n",
       "      <td>88.248737</td>\n",
       "      <td>34.05</td>\n",
       "      <td>139.9275</td>\n",
       "      <td>175.405</td>\n",
       "      <td>232.130</td>\n",
       "      <td>819.40</td>\n",
       "    </tr>\n",
       "  </tbody>\n",
       "</table>\n",
       "<p>3 rows × 40 columns</p>\n",
       "</div>"
      ],
      "text/plain": [
       "            Bathrooms                                               Bedrooms  \\\n",
       "                count      mean       std  min  25%  50%  75%   max    count   \n",
       "Status                                                                         \n",
       "Foreclosure     162.0  2.314815  0.807359  1.0  2.0  2.0  3.0   7.0    162.0   \n",
       "Regular         103.0  2.446602  0.801080  1.0  2.0  2.0  3.0   6.0    103.0   \n",
       "Short Sale      516.0  2.350775  0.867436  1.0  2.0  2.0  3.0  11.0    516.0   \n",
       "\n",
       "                        ...        Size         Price/SQ.Ft              \\\n",
       "                 mean   ...         75%     max       count        mean   \n",
       "Status                  ...                                               \n",
       "Foreclosure  3.216049   ...     2064.00  6500.0       162.0  200.221605   \n",
       "Regular      3.048544   ...     2237.50  5060.0       103.0  311.406796   \n",
       "Short Sale   3.137597   ...     1978.75  6800.0       516.0  197.567326   \n",
       "\n",
       "                                                                     \n",
       "                    std    min       25%      50%      75%      max  \n",
       "Status                                                               \n",
       "Foreclosure   97.433947  19.33  140.0500  186.780  225.525   686.02  \n",
       "Regular      189.019573  19.72  200.1000  282.690  369.740  1144.64  \n",
       "Short Sale    88.248737  34.05  139.9275  175.405  232.130   819.40  \n",
       "\n",
       "[3 rows x 40 columns]"
      ]
     },
     "execution_count": 14,
     "metadata": {},
     "output_type": "execute_result"
    }
   ],
   "source": [
    "status_df =status_groupby['Bathrooms','Bedrooms','Price','Size','Price/SQ.Ft'].describe()\n",
    "print type(status_df)\n",
    "status_df.head(20)"
   ]
  },
  {
   "cell_type": "markdown",
   "metadata": {},
   "source": [
    "Another way of printing statistics using group by is shown below, without having to iterate through each item in the dataframe. You can find documentation about std function here (http://pandas-docs.github.io/pandas-docs-travis/)."
   ]
  },
  {
   "cell_type": "code",
   "execution_count": 15,
   "metadata": {
    "scrolled": true
   },
   "outputs": [
    {
     "name": "stdout",
     "output_type": "stream",
     "text": [
      "              listing id          Price  Bedrooms  Bathrooms        Size  \\\n",
      "Status                                                                     \n",
      "Foreclosure  2691.998699  270124.016966  0.956956   0.807359  880.295908   \n",
      "Regular        71.974328  675214.007648  0.832886   0.801080  826.470618   \n",
      "Short Sale   4240.579781  236519.660193  0.825834   0.867436  795.330609   \n",
      "\n",
      "             Price/SQ.Ft  \n",
      "Status                    \n",
      "Foreclosure    97.433947  \n",
      "Regular       189.019573  \n",
      "Short Sale     88.248737  \n"
     ]
    }
   ],
   "source": [
    "status_df =df.groupby('Status').std()\n",
    "print status_df"
   ]
  }
 ],
 "metadata": {
  "kernelspec": {
   "display_name": "Python 2",
   "language": "python",
   "name": "python2"
  },
  "language_info": {
   "codemirror_mode": {
    "name": "ipython",
    "version": 2
   },
   "file_extension": ".py",
   "mimetype": "text/x-python",
   "name": "python",
   "nbconvert_exporter": "python",
   "pygments_lexer": "ipython2",
   "version": "2.7.12"
  }
 },
 "nbformat": 4,
 "nbformat_minor": 2
}
